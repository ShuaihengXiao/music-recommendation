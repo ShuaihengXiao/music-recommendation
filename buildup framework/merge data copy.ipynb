{
 "cells": [
  {
   "cell_type": "code",
   "execution_count": 29,
   "metadata": {},
   "outputs": [],
   "source": [
    "import numpy"
   ]
  },
  {
   "cell_type": "code",
   "execution_count": 30,
   "metadata": {},
   "outputs": [],
   "source": [
    "album1=open('/Users/xiaoshuaiheng/Desktop/EE 627 Big Data/final project/ee627-2020spring/albumData2.txt','r')\n",
    "album_insert=open('/Users/xiaoshuaiheng/Desktop/EE 627 Big Data/final project/ee627-2020spring/python/album_insert.txt','w')"
   ]
  },
  {
   "cell_type": "code",
   "execution_count": 31,
   "metadata": {},
   "outputs": [],
   "source": [
    "for line in album1:\n",
    "    arr_album = line.strip().split('|')\n",
    "    arr_album.insert(1,'None')\n",
    "    length=len(arr_album)\n",
    "    outstr=str(arr_album[0])\n",
    "    for i in range(0,length-1):\n",
    "        a=str(arr_album[i+1])\n",
    "        outstr=outstr+'|'+a\n",
    "    album_insert.write(outstr+'\\n')\n",
    "        "
   ]
  },
  {
   "cell_type": "code",
   "execution_count": 34,
   "metadata": {},
   "outputs": [],
   "source": [
    "album1.close()\n",
    "album_insert.close()"
   ]
  },
  {
   "cell_type": "code",
   "execution_count": 41,
   "metadata": {},
   "outputs": [],
   "source": [
    "track1=open('/Users/xiaoshuaiheng/Desktop/EE 627 Big Data/final project/ee627-2020spring/trackData2.txt','r')\n",
    "album_insert=open('/Users/xiaoshuaiheng/Desktop/EE 627 Big Data/final project/ee627-2020spring/python/album_insert.txt','r')\n",
    "track_all=open('/Users/xiaoshuaiheng/Desktop/EE 627 Big Data/final project/ee627-2020spring/python/track_all.txt','w')"
   ]
  },
  {
   "cell_type": "code",
   "execution_count": 42,
   "metadata": {},
   "outputs": [],
   "source": [
    "for line in track1:\n",
    "    arr_track=line.strip().split('|')\n",
    "    length_track=len(arr_track)\n",
    "    outstr=str(arr_track[0])\n",
    "    for i in range(0,length_track-1):\n",
    "        a= str(arr_track[i+1])\n",
    "        outstr=outstr+'|'+a\n",
    "    track_all.write(outstr+'\\n')"
   ]
  },
  {
   "cell_type": "code",
   "execution_count": 43,
   "metadata": {},
   "outputs": [],
   "source": [
    "for line in album_insert:\n",
    "    arr_album=line.strip().split('|')\n",
    "    length_album=len(arr_album)\n",
    "    outstr=str(arr_album[0])\n",
    "    for i in range(0,length_album-1):\n",
    "        a= str(arr_album[i+1])\n",
    "        outstr=outstr+'|'+a\n",
    "    track_all.write(outstr+'\\n')\n",
    "    "
   ]
  },
  {
   "cell_type": "code",
   "execution_count": 46,
   "metadata": {},
   "outputs": [],
   "source": [
    "album_insert.close()\n",
    "track1.close()\n",
    "track_all.close()"
   ]
  },
  {
   "cell_type": "code",
   "execution_count": 47,
   "metadata": {},
   "outputs": [],
   "source": [
    "track_all=open('/Users/xiaoshuaiheng/Desktop/EE 627 Big Data/final project/ee627-2020spring/python/track_all.txt','r+')"
   ]
  },
  {
   "cell_type": "code",
   "execution_count": 48,
   "metadata": {},
   "outputs": [],
   "source": [
    "for line in track_all:\n",
    "    arr_track=line.strip().split('|')\n",
    "    arr_track=sorted(arr_track, key=lambda student : student[0])"
   ]
  },
  {
   "cell_type": "code",
   "execution_count": null,
   "metadata": {},
   "outputs": [],
   "source": []
  }
 ],
 "metadata": {
  "kernelspec": {
   "display_name": "Python 3",
   "language": "python",
   "name": "python3"
  },
  "language_info": {
   "codemirror_mode": {
    "name": "ipython",
    "version": 3
   },
   "file_extension": ".py",
   "mimetype": "text/x-python",
   "name": "python",
   "nbconvert_exporter": "python",
   "pygments_lexer": "ipython3",
   "version": "3.6.2"
  }
 },
 "nbformat": 4,
 "nbformat_minor": 4
}
