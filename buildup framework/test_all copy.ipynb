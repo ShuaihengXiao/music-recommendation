{
 "cells": [
  {
   "cell_type": "code",
   "execution_count": null,
   "metadata": {},
   "outputs": [],
   "source": [
    "track=open('/Users/xiaoshuaiheng/Desktop/EE 627 Big Data/final project/ee627-2020spring/python/track_all.txt','r')\n",
    "test=open('/Users/xiaoshuaiheng/Desktop/EE 627 Big Data/final project/ee627-2020spring/testItem2.txt','r')\n",
    "test_all=open('/Users/xiaoshuaiheng/Desktop/EE 627 Big Data/final project/ee627-2020spring/python/test_all.txt','w')"
   ]
  },
  {
   "cell_type": "code",
   "execution_count": null,
   "metadata": {},
   "outputs": [],
   "source": [
    "for line in test:\n",
    "    arr_test=line.strip().split('|')\n",
    "    #print(arr_test)\n",
    "    length_test=len(arr_test)\n",
    "    if length_test==2:\n",
    "        outstr=str(arr_test[0])+'|'+str(arr_test[1])\n",
    "        test_all.write(outstr+'\\n')\n",
    "        continue\n",
    "    if length_test==1:\n",
    "        #print('here')\n",
    "        track.close()\n",
    "        track=open('/Users/xiaoshuaiheng/Desktop/EE 627 Big Data/final project/ee627-2020spring/python/track_all.txt','r')\n",
    "        for row in track:\n",
    "            arr_track=row.strip().split('|')\n",
    "            #print(arr_track)\n",
    "            if arr_test[0]==arr_track[0]:\n",
    "                #print('welcomne')\n",
    "                length_track=len(arr_track)\n",
    "                outStr=str(arr_test[0])\n",
    "                print(length_track)\n",
    "                for i in range(0,length_track-1):\n",
    "                    #print('1')\n",
    "                    outStr=outStr+'|'+str(arr_track[i+1])\n",
    "                test_all.write(outStr+'\\n')\n",
    "                break"
   ]
  },
  {
   "cell_type": "code",
   "execution_count": null,
   "metadata": {},
   "outputs": [],
   "source": [
    "a=['20','208724','96989']\n",
    "str(a)"
   ]
  },
  {
   "cell_type": "code",
   "execution_count": null,
   "metadata": {},
   "outputs": [],
   "source": []
  }
 ],
 "metadata": {
  "kernelspec": {
   "display_name": "Python 3",
   "language": "python",
   "name": "python3"
  },
  "language_info": {
   "codemirror_mode": {
    "name": "ipython",
    "version": 3
   },
   "file_extension": ".py",
   "mimetype": "text/x-python",
   "name": "python",
   "nbconvert_exporter": "python",
   "pygments_lexer": "ipython3",
   "version": "3.6.2"
  }
 },
 "nbformat": 4,
 "nbformat_minor": 4
}
