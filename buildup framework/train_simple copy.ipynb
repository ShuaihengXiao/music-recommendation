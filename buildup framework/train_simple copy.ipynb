{
 "cells": [
  {
   "cell_type": "code",
   "execution_count": 13,
   "metadata": {},
   "outputs": [],
   "source": [
    "import  numpy\n"
   ]
  },
  {
   "cell_type": "code",
   "execution_count": 11,
   "metadata": {},
   "outputs": [],
   "source": [
    "test=open('/Users/xiaoshuaiheng/Desktop/EE 627 Big Data/final project/ee627-2020spring/python/test_all.txt','r')\n",
    "train=open('/Users/xiaoshuaiheng/Desktop/EE 627 Big Data/final project/ee627-2020spring/trainItem2.txt','r')\n",
    "train_simple=open('/Users/xiaoshuaiheng/Desktop/EE 627 Big Data/final project/ee627-2020spring/python/2/train_simple.txt','w')"
   ]
  },
  {
   "cell_type": "code",
   "execution_count": 12,
   "metadata": {},
   "outputs": [],
   "source": [
    "count=0\n",
    "for line in test:\n",
    "    arr_test=line.strip().split('|')\n",
    "    length_test=len(arr_test)\n",
    "    if length_test==2:\n",
    "        test_name=arr_test[0]\n",
    "        for row in train:\n",
    "            arr_train=row.split()\n",
    "            length_train=len(arr_train)\n",
    "            if length_train==1:\n",
    "                train_name=str(arr_train)[2:8]\n",
    "                num=int(str(arr_train)[9:len(str(arr_train))-2])\n",
    "            if train_name==test_name and length_train==1:\n",
    "                outstr=str(train_name)+'|'+str(num)\n",
    "                train_simple.write(outstr+'\\n')\n",
    "            if train_name==test_name and length_train==2:\n",
    "                outstr1=str(arr_train[0])+' '+str(arr_train[1])\n",
    "                train_simple.write(outstr1+'\\n')\n",
    "                count=count+1\n",
    "            if count==num:\n",
    "                count=0\n",
    "                break\n",
    "                \n",
    "            "
   ]
  },
  {
   "cell_type": "code",
   "execution_count": 14,
   "metadata": {},
   "outputs": [
    {
     "ename": "SyntaxError",
     "evalue": "unexpected EOF while parsing (<ipython-input-14-f6e335eb93d4>, line 1)",
     "output_type": "error",
     "traceback": [
      "\u001b[0;36m  File \u001b[0;32m\"<ipython-input-14-f6e335eb93d4>\"\u001b[0;36m, line \u001b[0;32m1\u001b[0m\n\u001b[0;31m    @with_goto\u001b[0m\n\u001b[0m              ^\u001b[0m\n\u001b[0;31mSyntaxError\u001b[0m\u001b[0;31m:\u001b[0m unexpected EOF while parsing\n"
     ]
    }
   ],
   "source": [
    "\n"
   ]
  },
  {
   "cell_type": "code",
   "execution_count": null,
   "metadata": {},
   "outputs": [],
   "source": []
  }
 ],
 "metadata": {
  "kernelspec": {
   "display_name": "Python 3",
   "language": "python",
   "name": "python3"
  },
  "language_info": {
   "codemirror_mode": {
    "name": "ipython",
    "version": 3
   },
   "file_extension": ".py",
   "mimetype": "text/x-python",
   "name": "python",
   "nbconvert_exporter": "python",
   "pygments_lexer": "ipython3",
   "version": "3.6.2"
  }
 },
 "nbformat": 4,
 "nbformat_minor": 4
}
