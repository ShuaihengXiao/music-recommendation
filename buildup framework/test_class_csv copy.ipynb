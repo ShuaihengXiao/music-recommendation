{
 "cells": [
  {
   "cell_type": "code",
   "execution_count": null,
   "metadata": {},
   "outputs": [],
   "source": [
    "test=open('/Users/xiaoshuaiheng/Desktop/EE 627 Big Data/final project/ee627-2020spring/python/2/test_score.txt','r')\n",
    "result=open('/Users/xiaoshuaiheng/Desktop/EE 627 Big Data/final project/ee627-2020spring/python/2/result.txt','w')\n"
   ]
  },
  {
   "cell_type": "code",
   "execution_count": null,
   "metadata": {},
   "outputs": [],
   "source": [
    "count=0\n",
    "for line in test:\n",
    "    arr_test=line.strip().split('|')\n",
    "    length_test=len(arr_test)\n",
    "    #print(arr_test)\n",
    "    if length_test==2:\n",
    "        name=arr_test[0]\n",
    "        outstr=str(arr_test[0])\n",
    "        result.write(outstr+'\\n')\n",
    "    if length_test!=2:\n",
    "        summation=0\n",
    "        count=count+1\n",
    "        for i in range(0,length_test-2):\n",
    "            summation=summation+int(arr_test[i+1])\n",
    "        outstr1=str(arr_test[0])+'|'+str(summation)+'|'+str(count)\n",
    "        result.write(outstr1+'\\n')\n",
    "    if count==6:\n",
    "        count=0"
   ]
  },
  {
   "cell_type": "code",
   "execution_count": null,
   "metadata": {},
   "outputs": [],
   "source": []
  },
  {
   "cell_type": "code",
   "execution_count": null,
   "metadata": {},
   "outputs": [],
   "source": [
    "test.close()\n",
    "result.close()"
   ]
  },
  {
   "cell_type": "code",
   "execution_count": null,
   "metadata": {},
   "outputs": [],
   "source": [
    "import numpy\n",
    "result=open('/Users/xiaoshuaiheng/Desktop/EE 627 Big Data/final project/ee627-2020spring/python/2/result.txt','r')\n",
    "result_1=open('/Users/xiaoshuaiheng/Desktop/EE 627 Big Data/final project/ee627-2020spring/python/2/result_1.txt','w')"
   ]
  },
  {
   "cell_type": "code",
   "execution_count": null,
   "metadata": {},
   "outputs": [],
   "source": [
    "i=0\n",
    "matrix=numpy.zeros(shape=(6,3))\n",
    "for line in result:\n",
    "    arr_result=line.strip().split('|')\n",
    "    length_result=len(arr_result)\n",
    "    if length_result==1:\n",
    "        name=arr_result\n",
    "        continue\n",
    "    if length_result==3:\n",
    "        for j in range(0,3):\n",
    "            try:\n",
    "                matrix[i][j]=int(arr_result[j])\n",
    "            except:\n",
    "                matrix[i][j]=0\n",
    "    i=i+1\n",
    "    if i==6:\n",
    "        #print(matrix)\n",
    "        i=0\n",
    "        matrix_sort=sorted(matrix, key=lambda student : student[1])\n",
    "        matrix=numpy.zeros(shape=(6,3))\n",
    "        for ll in range(0,3):\n",
    "            matrix_sort[ll][1]=0\n",
    "        for rr in range(0,3):\n",
    "            matrix_sort[rr+3][1]=1\n",
    "        matrix_sort=sorted(matrix_sort, key=lambda number: number[2])\n",
    "        #print(matrix_sort)\n",
    "        outstr1=str(name)[2:8]+'_'+str(int(matrix_sort[0][0]))+' '+ str(int(matrix_sort[0][1]))+'\\n'\n",
    "        outstr2=str(name)[2:8]+'_'+str(int(matrix_sort[1][0]))+' '+ str(int(matrix_sort[1][1]))+'\\n'\n",
    "        outstr3=str(name)[2:8]+'_'+str(int(matrix_sort[2][0]))+' '+ str(int(matrix_sort[2][1]))+'\\n'\n",
    "        outstr4=str(name)[2:8]+'_'+str(int(matrix_sort[3][0]))+' '+ str(int(matrix_sort[3][1]))+'\\n'\n",
    "        outstr5=str(name)[2:8]+'_'+str(int(matrix_sort[4][0]))+' '+ str(int(matrix_sort[4][1]))+'\\n'\n",
    "        outstr6=str(name)[2:8]+'_'+str(int(matrix_sort[5][0]))+' '+ str(int(matrix_sort[5][1]))+'\\n'\n",
    "        result_1.write(outstr1+outstr2+outstr3+outstr4+outstr5+outstr6)"
   ]
  },
  {
   "cell_type": "code",
   "execution_count": 40,
   "metadata": {},
   "outputs": [],
   "source": [
    "test.close()\n",
    "result.close()"
   ]
  },
  {
   "cell_type": "code",
   "execution_count": 41,
   "metadata": {},
   "outputs": [],
   "source": [
    "import csv"
   ]
  },
  {
   "cell_type": "code",
   "execution_count": 42,
   "metadata": {},
   "outputs": [],
   "source": [
    "csvFile=open('/Users/xiaoshuaiheng/Desktop/EE 627 Big Data/final project/ee627-2020spring/python/2/result_csv.csv','w')\n",
    "writer = csv.writer(csvFile) \n",
    "csvRow = []\n",
    "writer.writerow(csvRow)\n",
    "f=open('/Users/xiaoshuaiheng/Desktop/EE 627 Big Data/final project/ee627-2020spring/python/2/result_1.txt','r')\n",
    "for line in f:\n",
    "    csvRow = line.split()\n",
    "    writer.writerow(csvRow)\n",
    "\n",
    "f.close()\n",
    "csvFile.close()"
   ]
  },
  {
   "cell_type": "code",
   "execution_count": null,
   "metadata": {},
   "outputs": [],
   "source": []
  }
 ],
 "metadata": {
  "kernelspec": {
   "display_name": "Python 3",
   "language": "python",
   "name": "python3"
  },
  "language_info": {
   "codemirror_mode": {
    "name": "ipython",
    "version": 3
   },
   "file_extension": ".py",
   "mimetype": "text/x-python",
   "name": "python",
   "nbconvert_exporter": "python",
   "pygments_lexer": "ipython3",
   "version": "3.6.2"
  }
 },
 "nbformat": 4,
 "nbformat_minor": 4
}
