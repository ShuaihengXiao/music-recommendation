{
 "cells": [
  {
   "cell_type": "code",
   "execution_count": null,
   "metadata": {},
   "outputs": [],
   "source": [
    "import numpy"
   ]
  },
  {
   "cell_type": "code",
   "execution_count": null,
   "metadata": {},
   "outputs": [],
   "source": [
    "train=open('/Users/xiaoshuaiheng/Desktop/EE 627 Big Data/final project/ee627-2020spring/python/2-try/train_simple.txt','r')\n",
    "test=open('/Users/xiaoshuaiheng/Desktop/EE 627 Big Data/final project/ee627-2020spring/python/test_all.txt','r')\n",
    "test_score=open('/Users/xiaoshuaiheng/Desktop/EE 627 Big Data/final project/ee627-2020spring/python/2-try/test_score.txt','w')"
   ]
  },
  {
   "cell_type": "code",
   "execution_count": null,
   "metadata": {},
   "outputs": [],
   "source": [
    "count=0\n",
    "count1=0\n",
    "for row in train:\n",
    "    arr_train=row.split()\n",
    "    length_train=len(arr_train)\n",
    "    if length_train==1:\n",
    "        num=int(str(arr_train)[9:len(str(arr_train))-2])\n",
    "        rating_matrix=numpy.zeros(shape=(num,2))\n",
    "        #print(num)\n",
    "    if length_train!=1:\n",
    "            rating_matrix[count][0]=int(arr_train[0])\n",
    "            rating_matrix[count][1]=int(arr_train[1])\n",
    "            count=count+1\n",
    "    if count==num:\n",
    "        count=0\n",
    "        #print(rating_matrix)\n",
    "        for line in test:\n",
    "            arr_test=line.strip().split('|')\n",
    "            length_test=len(arr_test)\n",
    "            #print(arr_test)\n",
    "            #print(rating_matrix)\n",
    "            if length_test==2:\n",
    "                outstr=str(arr_test[0])+'|'+str(arr_test[1])\n",
    "                test_score.write(outstr+'\\n')\n",
    "            if length_test!=2:\n",
    "                count1=count1+1\n",
    "                outstr1=str(arr_test[0])+'|'\n",
    "                for i in range(0,length_test):\n",
    "                    issame=0\n",
    "                    for j in range(0,num):\n",
    "                         if str(arr_test[i])+'.0'==str(rating_matrix[j][0]):\n",
    "                            issame=1\n",
    "                            break\n",
    "                    if issame==1:\n",
    "                        outstr1=outstr1+str(str(rating_matrix[j][1])[0:-2])+'|'\n",
    "                    else:\n",
    "                        outstr1=outstr1+str(int(0))+'|'\n",
    "                    if i==length_test-1:\n",
    "                        test_score.write(outstr1+'\\n')\n",
    "            if count1==6:\n",
    "                count1=0\n",
    "                break\n",
    "        "
   ]
  },
  {
   "cell_type": "code",
   "execution_count": null,
   "metadata": {},
   "outputs": [],
   "source": [
    "train.close()\n",
    "test.close()\n",
    "test_score.close()"
   ]
  },
  {
   "cell_type": "code",
   "execution_count": null,
   "metadata": {},
   "outputs": [],
   "source": [
    "test=open('/Users/xiaoshuaiheng/Desktop/EE 627 Big Data/final project/ee627-2020spring/python/test_all.txt','r')\n",
    "i=0\n",
    "for line in test:\n",
    "    i=i+1\n",
    "print(i)"
   ]
  },
  {
   "cell_type": "code",
   "execution_count": null,
   "metadata": {},
   "outputs": [],
   "source": [
    "train=open('/Users/xiaoshuaiheng/Desktop/EE 627 Big Data/final project/ee627-2020spring/python/2/train_simple.txt','r')\n",
    "j=0\n",
    "for row in train:\n",
    "    j=j+1\n",
    "print(j)"
   ]
  },
  {
   "cell_type": "code",
   "execution_count": null,
   "metadata": {},
   "outputs": [],
   "source": [
    "a=['48050']\n",
    "b=(str(a[0])+'.0')"
   ]
  },
  {
   "cell_type": "code",
   "execution_count": null,
   "metadata": {},
   "outputs": [],
   "source": [
    "b"
   ]
  },
  {
   "cell_type": "code",
   "execution_count": null,
   "metadata": {},
   "outputs": [],
   "source": [
    "b==str(rating_matrix[0][0])"
   ]
  },
  {
   "cell_type": "code",
   "execution_count": null,
   "metadata": {},
   "outputs": [],
   "source": []
  }
 ],
 "metadata": {
  "kernelspec": {
   "display_name": "Python 3",
   "language": "python",
   "name": "python3"
  },
  "language_info": {
   "codemirror_mode": {
    "name": "ipython",
    "version": 3
   },
   "file_extension": ".py",
   "mimetype": "text/x-python",
   "name": "python",
   "nbconvert_exporter": "python",
   "pygments_lexer": "ipython3",
   "version": "3.6.2"
  }
 },
 "nbformat": 4,
 "nbformat_minor": 4
}
