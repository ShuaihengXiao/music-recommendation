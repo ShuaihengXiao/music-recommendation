{
 "cells": [
  {
   "cell_type": "code",
   "execution_count": 1,
   "metadata": {},
   "outputs": [],
   "source": [
    "# get hierarchy scores from test_5score.txt"
   ]
  },
  {
   "cell_type": "code",
   "execution_count": 6,
   "metadata": {},
   "outputs": [],
   "source": [
    "test=open('/Users/xiaoshuaiheng/Desktop/EE 627 Big Data/HW！/HW9/test2_new.txt','r')\n",
    "output=open('/Users/xiaoshuaiheng/Desktop/EE 627 Big Data/HW！/HW9/3/test_5score.txt','r')\n",
    "result=open('/Users/xiaoshuaiheng/Desktop/EE 627 Big Data/HW！/HW9/3/test2_5score.txt','w')"
   ]
  },
  {
   "cell_type": "code",
   "execution_count": 7,
   "metadata": {},
   "outputs": [],
   "source": [
    "i=0\n",
    "result_set=[]\n",
    "for line in test:\n",
    "    arr_test=line.strip().split('|')\n",
    "    result_set.append(int(arr_test[2]))\n",
    "    i+=1\n",
    "    if i==6:\n",
    "        i=0\n",
    "        output.close()\n",
    "        output=open('/Users/xiaoshuaiheng/Desktop/EE 627 Big Data/HW！/HW9/3/test_5score.txt','r')\n",
    "        j=0\n",
    "        for row in output:\n",
    "            arr_output=row.strip().split('|')\n",
    "            if arr_output[0]==arr_test[0]:\n",
    "                #print('1')\n",
    "                outstr=str(arr_output[0])+'|'+str(arr_output[1])+'|'+str(arr_output[2])+'|'+str(arr_output[3])+'|'+str(arr_output[4])+'|'+str(arr_output[5])+'|'+str(arr_output[6])+'|'+str(result_set[j])\n",
    "                result.write(outstr+'\\n')\n",
    "                j+=1\n",
    "            if j==6:\n",
    "                result_set=[]\n",
    "                break"
   ]
  },
  {
   "cell_type": "code",
   "execution_count": 8,
   "metadata": {},
   "outputs": [],
   "source": [
    "test.close()\n",
    "output.close()\n",
    "result.close()"
   ]
  },
  {
   "cell_type": "code",
   "execution_count": null,
   "metadata": {},
   "outputs": [],
   "source": []
  }
 ],
 "metadata": {
  "kernelspec": {
   "display_name": "Python 3",
   "language": "python",
   "name": "python3"
  },
  "language_info": {
   "codemirror_mode": {
    "name": "ipython",
    "version": 3
   },
   "file_extension": ".py",
   "mimetype": "text/x-python",
   "name": "python",
   "nbconvert_exporter": "python",
   "pygments_lexer": "ipython3",
   "version": "3.6.2"
  }
 },
 "nbformat": 4,
 "nbformat_minor": 4
}
